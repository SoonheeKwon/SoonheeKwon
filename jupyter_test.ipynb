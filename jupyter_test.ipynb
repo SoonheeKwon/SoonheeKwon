{
 "cells": [
  {
   "cell_type": "code",
   "execution_count": 1,
   "metadata": {},
   "outputs": [],
   "source": [
    "import numpy as np\n",
    "import matplotlib as plt"
   ]
  },
  {
   "cell_type": "code",
   "execution_count": null,
   "metadata": {},
   "outputs": [],
   "source": [
    "def dec_to_binarray(dec_num, len_array):\n",
    "    function_result = np.zeros(len_array, dtype=int)\n",
    "    binary_reprsent = np.binary_repr(dec_num, width=len_array)\n",
    "    for i in range(len_array):\n",
    "        function_result[i] = binary_reprsent[i]\n",
    "\n",
    "    return function_result"
   ]
  },
  {
   "cell_type": "code",
   "execution_count": null,
   "metadata": {},
   "outputs": [],
   "source": [
    "# Parameter setting\n",
    "len_message = 4\n",
    "len_codeword = 7\n",
    "num_message = 100000\n",
    "transmitted_bit_stream = np.random.randint(2, size=(num_message,len_message))\n",
    "\n",
    "# Generator matrix (7,4 Hamming code)\n",
    "gen_matrix = [[1, 0, 0, 0, 1, 1, 0],\n",
    "    [0, 1, 0, 0, 1, 0, 1],\n",
    "    [0, 0, 1, 0, 0, 1, 1],\n",
    "    [0, 0, 0, 1, 1, 1, 1]\n",
    "    ]\n",
    "\n",
    "# print(gen_matrix)\n",
    "\n",
    "parity_check_matrix = [[1, 1, 0, 1, 1, 0, 0],\n",
    "    [1, 0, 1, 1, 0, 1, 0],\n",
    "    [0, 1, 1, 1, 0, 0, 1]]\n",
    "\n",
    "# print(np.matmul(gen_matrix, np.transpose(parity_check_matrix)) % 2)"
   ]
  },
  {
   "cell_type": "code",
   "execution_count": null,
   "metadata": {},
   "outputs": [],
   "source": [
    "# Encoding\n",
    "encoded_bit_stream = np.matmul(transmitted_bit_stream, gen_matrix) % 2\n",
    "# print(encoded_bit_stream[0:5])\n",
    "\n",
    "# BPSK modulation\n",
    "modulated_bit_stream = (-2 * encoded_bit_stream + 1)\n",
    "# print(modulated_bit_stream[0:5])\n",
    "\n",
    "# Additive white Gaussian noise\n",
    "\n",
    "SNR_dB = 6 - 10 * np.log10(7/4)\n",
    "SNR_linear = 10 ** (SNR_dB/10)\n",
    "# print(SNR_linear)\n",
    "\n",
    "noise_variance = 0.5 / SNR_linear\n",
    "noise_stream = np.sqrt(noise_variance) * np.random.randn(num_message, len_codeword)\n",
    "\n",
    "# print(noise_stream[0:5])\n",
    "\n"
   ]
  },
  {
   "cell_type": "code",
   "execution_count": null,
   "metadata": {},
   "outputs": [],
   "source": [
    "# Received bit stream\n",
    "\n",
    "received_bit_stream = modulated_bit_stream + noise_stream\n",
    "# print(received_bit_stream[0:5])\n",
    "\n",
    "# Demodulation of received bit stream\n",
    "\n",
    "demodulated_bit_stream = np.zeros((num_message,len_codeword), dtype = int)\n",
    "error_count = 0\n",
    "for i in range(num_message):\n",
    "    for j in range(len_codeword):\n",
    "        if received_bit_stream[i][j] < 0:\n",
    "            demodulated_bit_stream[i][j] = 1\n",
    "        if demodulated_bit_stream[i][j] != encoded_bit_stream[i][j]:\n",
    "            error_count += 1\n",
    "\n",
    "\n",
    "# Hard decoding\n",
    "error_location = np.ones(num_message) * -1\n",
    "hard_decoded_bit_stream = demodulated_bit_stream\n",
    "transpose_parity_check_matrix = np.transpose(parity_check_matrix)\n",
    "syndrome_result = np.matmul(demodulated_bit_stream, transpose_parity_check_matrix) % 2\n",
    "for i in range(num_message):\n",
    "    for j in range(len_codeword):\n",
    "        if np.all(syndrome_result[i] == transpose_parity_check_matrix[j]):\n",
    "            error_location[i] = j\n",
    "            hard_decoded_bit_stream[i][j] = hard_decoded_bit_stream[i][j] + 1 % 2\n",
    "            # print(\"The \", j, \"th bit of \", i, \"th codeword is corrected\")\n",
    "\n",
    "#print(hard_decoded_bit_stream[0:5])\n",
    "\n",
    "# Soft decoding\n",
    "\n",
    "codeword_table = np.zeros((2**len_message, len_codeword))\n",
    "for i in range(2**len_message):\n",
    "    message_tmp = dec_to_binarray(i, len_message)\n",
    "    codeword_table[i] = np.matmul(message_tmp, gen_matrix) % 2\n",
    "\n",
    "codeword_table_BPSK = -2 * codeword_table + 1\n",
    "correlation_value = np.matmul(received_bit_stream, np.transpose(codeword_table_BPSK))\n",
    "\n",
    "soft_decoded_bit_stream = np.zeros((num_message, len_codeword))\n",
    "for i in range(num_message):\n",
    "    max_argument = np.argmax(correlation_value[i])\n",
    "    soft_decoded_bit_stream[i] = codeword_table[max_argument]\n",
    "\n",
    "# print(soft_decoded_bit_stream[0:5])\n"
   ]
  },
  {
   "cell_type": "code",
   "execution_count": null,
   "metadata": {},
   "outputs": [],
   "source": [
    "# BER of hard decoding\n",
    "\n",
    "error_count_hard_decoding = 0\n",
    "for i in range(num_message): \n",
    "    for j in range(len_message):\n",
    "        if hard_decoded_bit_stream[i][j] != encoded_bit_stream[i][j]:\n",
    "            error_count_hard_decoding += 1\n",
    "\n",
    "print(\"BER of Hard Decoding : \", error_count_hard_decoding / (num_message*len_message))\n",
    "\n",
    "# BER of soft decoding\n",
    "\n",
    "error_count_soft_decoding = 0\n",
    "for i in range(num_message):\n",
    "    for j in range(len_message):\n",
    "        if soft_decoded_bit_stream[i][j] != encoded_bit_stream[i][j]:\n",
    "            error_count_soft_decoding += 1\n",
    "            # print(\"Error location : \", i, 'th codeword', j, \"th bit.\")\n",
    "            # print(\"soft_de... : \", soft_decoded_bit_stream[i][j], \", encoded_bi... : \", encoded_bit_stream[i][j])\n",
    "\n",
    "print(\"BER of soft decoding : \", error_count_soft_decoding / (num_message*len_message))"
   ]
  },
  {
   "cell_type": "code",
   "execution_count": null,
   "metadata": {},
   "outputs": [],
   "source": []
  }
 ],
 "metadata": {
  "interpreter": {
   "hash": "883435d524af51d396c48b5561edebd0022dacce297a5811545aee60a924e94e"
  },
  "kernelspec": {
   "display_name": "Python 3.10.0 64-bit ('python_test_ver1': conda)",
   "language": "python",
   "name": "python3"
  },
  "language_info": {
   "codemirror_mode": {
    "name": "ipython",
    "version": 3
   },
   "file_extension": ".py",
   "mimetype": "text/x-python",
   "name": "python",
   "nbconvert_exporter": "python",
   "pygments_lexer": "ipython3",
   "version": "3.9.7"
  },
  "orig_nbformat": 4
 },
 "nbformat": 4,
 "nbformat_minor": 2
}
